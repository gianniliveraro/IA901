{
 "cells": [
  {
   "cell_type": "markdown",
   "metadata": {
    "id": "JlwiZ52dqhtO"
   },
   "source": [
    "**Objetivo**: Treinar uma rede neural convolucional para identificar a presença ou não de células neoplásicas nos tecidos\n"
   ]
  },
  {
   "cell_type": "code",
   "execution_count": null,
   "metadata": {
    "id": "K7lMgR-9_a-J"
   },
   "outputs": [],
   "source": [
    "# AAAAAAAAAABBBCCC"
   ]
  },
  {
   "cell_type": "code",
   "execution_count": null,
   "metadata": {
    "id": "rbduL2D8FEOx"
   },
   "outputs": [],
   "source": [
    "# Nova celula!! Novo teste"
   ]
  },
  {
   "cell_type": "code",
   "execution_count": null,
   "metadata": {},
   "outputs": [],
   "source": [
    "#Teste local com jupyter!"
   ]
  },
  {
   "cell_type": "code",
   "execution_count": null,
   "metadata": {
    "colab": {
     "base_uri": "https://localhost:8080/"
    },
    "id": "edeH_tAO2QSS",
    "outputId": "9f1103ac-06b7-4672-f064-bdbca4f8b892"
   },
   "outputs": [
    {
     "name": "stdout",
     "output_type": "stream",
     "text": [
      "Drive already mounted at /content/gdrive; to attempt to forcibly remount, call drive.mount(\"/content/gdrive\", force_remount=True).\n"
     ]
    }
   ],
   "source": [
    "from google.colab import drive\n",
    "drive.mount('/content/gdrive')\n",
    "PATH = '/content/gdrive/Shareddrives/IA901 - Projeto Final/'\n",
    "data_dir = PATH+'Datasets/Processed'"
   ]
  },
  {
   "cell_type": "code",
   "execution_count": null,
   "metadata": {
    "id": "gLuCdRoCa4lx"
   },
   "outputs": [],
   "source": [
    "def MakeREADME(file_path, text):\n",
    "  path = file_path+\"/README.txt\"  # File path and name\n",
    "  # Open the file in write mode\n",
    "  file = open(path, \"w\")\n",
    "  # Write the text to the file\n",
    "  file.write(text)\n",
    "  # Close the file\n",
    "  file.close()"
   ]
  },
  {
   "cell_type": "code",
   "execution_count": null,
   "metadata": {
    "colab": {
     "base_uri": "https://localhost:8080/"
    },
    "id": "9iyNmV3UPxRl",
    "outputId": "65fd7265-e864-4cbf-96ea-19887e824753"
   },
   "outputs": [
    {
     "name": "stdout",
     "output_type": "stream",
     "text": [
      "Quer criar um novo sub_experimento? (True/False)\n",
      "True\n",
      "Resuma o conteudo deste sub experimento. Qual a sua principal mudança feita\n",
      "Meu segundo teste do framework!\n"
     ]
    }
   ],
   "source": [
    "# ______________________________________________________________________________\n",
    "# Cria pasta para salvar resultados do experimento como um todo\n",
    "import os\n",
    "\n",
    "ExperimentName = 'DL_Baseline'\n",
    "\n",
    "path_interim = PATH+\"Notebooks/InterimResults/{}\".format(ExperimentName)\n",
    "if not os.path.exists(path_interim):\n",
    "  print('Criar pasta chamada {}? (yes/no)'.format(ExperimentName))\n",
    "  Answer2 = str (input())\n",
    "\n",
    "  if Answer2=='yes':\n",
    "    os.mkdir(path_interim)\n",
    "    print('Resuma o conteudo deste grande experimento. Qual a sua principal diferença para os demais?')\n",
    "    text = str (input())\n",
    "    MakeREADME(path_interim, text)\n",
    "\n",
    "# ______________________________________________________________________________\n",
    "# Cria subdiretorio para salvar resultados dos subexperimentos\n",
    "print('Quer criar um novo sub_experimento? (True/False)')\n",
    "NewSubExperiment = str (input())\n",
    "\n",
    "if NewSubExperiment:\n",
    "  Experiment_Number = sum(1 for entry in os.scandir(path_interim) if entry.is_file())+1\n",
    "  subpath = path_interim+'/{}'.format(Experiment_Number)\n",
    "  os.mkdir(subpath)\n",
    "\n",
    "  print('Resuma o conteudo deste sub experimento. Qual a sua principal mudança feita')\n",
    "  text = str (input())\n",
    "  MakeREADME(subpath, text)\n",
    "\n",
    "else:\n",
    "\n",
    "  print('Diga o numero do experimento que você gostaria de refazer (Experiment_Number)')\n",
    "  Experiment_Number = str (input())\n",
    "  subpath = path_interim+'/{}'.format(Experiment_Number)"
   ]
  },
  {
   "cell_type": "markdown",
   "metadata": {
    "id": "sySCAGAVrmPk"
   },
   "source": [
    "# Configurações gerais e funções úteis para as análises"
   ]
  },
  {
   "cell_type": "code",
   "execution_count": null,
   "metadata": {
    "ExecuteTime": {
     "end_time": "2019-10-08T07:29:06.996023Z",
     "start_time": "2019-10-08T07:29:05.475794Z"
    },
    "colab": {
     "base_uri": "https://localhost:8080/"
    },
    "id": "tU3bdMfArp7Y",
    "outputId": "3c9cab1a-688f-4bf0-ed28-e046f9d1d5ba"
   },
   "outputs": [
    {
     "data": {
      "text/plain": [
       "<contextlib.ExitStack at 0x7f7aac09e350>"
      ]
     },
     "execution_count": 34,
     "metadata": {},
     "output_type": "execute_result"
    }
   ],
   "source": [
    "# Imports\n",
    "\n",
    "# import the needed libs\n",
    "\n",
    "from __future__ import print_function, division\n",
    "\n",
    "import matplotlib.pyplot as plt\n",
    "\n",
    "import torch\n",
    "import torch.nn as nn\n",
    "import torch.optim as optim\n",
    "from torch.optim import lr_scheduler\n",
    "import numpy as np\n",
    "import torchvision\n",
    "from torchvision import datasets, models, transforms\n",
    "from torchsummary import summary\n",
    "import matplotlib.pyplot as plt\n",
    "import time\n",
    "import os\n",
    "import copy\n",
    "\n",
    "plt.ion()   # interactive mode"
   ]
  },
  {
   "cell_type": "code",
   "execution_count": null,
   "metadata": {
    "id": "TyPOHKkc_cji"
   },
   "outputs": [],
   "source": [
    "from sklearn import metrics\n",
    "from matplotlib import pyplot as plt\n",
    "import pandas as pd\n",
    "\n",
    "def AnalysisPlots(classe_teste, PrevisoesProb):\n",
    "\n",
    "  # Construindo a ROC Curve\n",
    "  # A função abaixo retorna arrays de True Positive Rate (TPR), False Positive Rate (FPR) e os valores de threshold\n",
    "  FPR, TPR, thresholds = metrics.roc_curve(classe_teste, PrevisoesProb, drop_intermediate=False)\n",
    "\n",
    "  # Calculo da AUC\n",
    "  auc = metrics.roc_auc_score(classe_teste, PrevisoesProb)\n",
    "\n",
    "  # Plotando ROC Curve com matplotlib:\n",
    "  fig = plt.figure()\n",
    "  ax = fig.add_subplot(111)\n",
    "\n",
    "  ax.plot(FPR, TPR, label=\"AUC =\"+np.format_float_positional(auc, precision=3))\n",
    "  ax.plot([0,1], [0,1], linestyle='--', label='Random Selection, AUC = 0.5')\n",
    "  ax.set_xlabel('False Positive Rate', fontsize=15)\n",
    "  ax.set_ylabel('True Positive Rate', fontsize=15)\n",
    "  ax.set_title('ROC Curve', fontsize=15)\n",
    "  ax.grid()\n",
    "  ax.legend(loc='lower right')\n",
    "  plt.savefig(subpath+'/ROCCurve.png')\n",
    "  #plt.show()\n",
    "\n",
    "  plt.clf() # limpando janela de plot\n",
    "\n",
    "  # Plot TPR x Threshold\n",
    "\n",
    "  fig = plt.figure()\n",
    "  ax = fig.add_subplot(111)\n",
    "\n",
    "  ax.plot(thresholds, TPR)\n",
    "  ax.set_xlabel('Decision Threshold', fontsize=15)\n",
    "  ax.set_ylabel('True Positive Rate', fontsize=15)\n",
    "  ax.set_title('TPR x Decision Threshold', fontsize=15)\n",
    "  ax.grid()\n",
    "  ax.set_xlim((0,1.0))\n",
    "  plt.savefig(subpath+'/TPRxThresholf.png')\n",
    "  #plt.show()\n",
    "\n",
    "  plt.clf() # limpando janela de plot\n",
    "\n",
    "  # Plot FPR x Threshold\n",
    "\n",
    "  fig = plt.figure()\n",
    "  ax = fig.add_subplot(111)\n",
    "\n",
    "  ax.plot(thresholds, FPR)\n",
    "  ax.set_xlabel('Decision Threshold', fontsize=15)\n",
    "  ax.set_ylabel('False Positive Rate', fontsize=15)\n",
    "  ax.set_title('FPR x Decision Threshold', fontsize=15)\n",
    "  ax.grid()\n",
    "  ax.set_xlim((0,1.0))\n",
    "  #plt.show()\n",
    "\n",
    "  # Comando para salvar figura:\n",
    "  plt.savefig(subpath+'/FPRxThresholf.png')\n",
    "\n",
    "  plt.clf() # limpando janela de plot\n",
    "\n",
    "  # Dataframe com indice de Youden:\n",
    "  DataFrameYouden = pd.DataFrame(data={'Threshold':thresholds,'Youden':TPR - FPR})\n",
    "\n",
    "  # Dataframe com indice maximo de Youden:\n",
    "  DataFrameYoudenMax = DataFrameYouden.sort_values(by='Youden', ascending = False) # Ordenando em ordem crescente\n",
    "\n",
    "  # Print do valor de threshold que maximiza o índice de Youden:\n",
    "  print('\\n Melhor Decision Threshold: ', DataFrameYoudenMax.Threshold.values[0]) # printando valor de threshold que maximiza o Youden\n",
    "  print('\\n Melhor Índice de Youden: ', DataFrameYoudenMax.Youden.values[0]) # printando valor maximo do Youden\n",
    "\n",
    "\n",
    "def Variable_x_Epochs(Epochs, Variable1, Variable2, metricname):\n",
    "  fig = plt.figure()\n",
    "  ax = fig.add_subplot(111)\n",
    "\n",
    "  ax.plot(Epochs, Variable1, label='Train')\n",
    "  ax.plot(Epochs, Variable2, label='Val')\n",
    "  ax.set_xlabel('Epochs', fontsize=15)\n",
    "  ax.set_ylabel('{}'.format(metricname), fontsize=15)\n",
    "  plt.legend()\n",
    "  ax.grid()\n",
    "  plt.savefig(subpath+'/Epochsx{}.png'.format(metricname))\n",
    "  plt.show()"
   ]
  },
  {
   "cell_type": "markdown",
   "metadata": {
    "id": "553If69Irp7Z"
   },
   "source": [
    "## Carregar dados\n"
   ]
  },
  {
   "cell_type": "code",
   "execution_count": null,
   "metadata": {
    "id": "UwLEF_2j1C3E"
   },
   "outputs": [],
   "source": [
    "class ImageFolderWithPath(datasets.ImageFolder):\n",
    "    def __getitem__(self, index):\n",
    "        path, target = self.samples[index]\n",
    "        img = self.loader(path)\n",
    "        if self.transform is not None:\n",
    "            img = self.transform(img)\n",
    "        if self.target_transform is not None:\n",
    "            target = self.target_transform(target)\n",
    "        return img, target, path"
   ]
  },
  {
   "cell_type": "markdown",
   "metadata": {
    "id": "Ef73p3_Drp7c"
   },
   "source": [
    "## Treinando o modelo"
   ]
  },
  {
   "cell_type": "code",
   "execution_count": null,
   "metadata": {
    "ExecuteTime": {
     "end_time": "2019-10-08T07:29:32.281807Z",
     "start_time": "2019-10-08T07:29:32.270836Z"
    },
    "code_folding": [],
    "id": "DbZlV84Hrp7c"
   },
   "outputs": [],
   "source": [
    "def train_model(model, criterion, optimizer, scheduler=None, num_epochs=25):\n",
    "    since = time.time()\n",
    "\n",
    "    LOSS_train = []\n",
    "    LOSS_val = []\n",
    "    ACC_train = []\n",
    "    ACC_val = []\n",
    "\n",
    "    best_model_wts = copy.deepcopy(model.state_dict())\n",
    "    best_loss = 1.0\n",
    "    best_epoch = 0\n",
    "    best_acc = 0\n",
    "    best_auc = 0\n",
    "\n",
    "    for epoch in range(num_epochs):\n",
    "        print('Epoch {}/{}'.format(epoch, num_epochs - 1))\n",
    "        print('-' * 10)\n",
    "\n",
    "        # Each epoch has a training and validation phase\n",
    "        for phase in ['train', 'val']:\n",
    "            if phase == 'train':\n",
    "                model.train()  # Set model to training mode\n",
    "            else:\n",
    "                model.eval()   # Set model to evaluate mode\n",
    "\n",
    "            running_loss = 0.0\n",
    "            running_corrects = 0\n",
    "            Probabilities = []\n",
    "            ClassLabels = []\n",
    "\n",
    "            # Iterate over data.\n",
    "            for inputs, labels, _ in dataloaders[phase]:\n",
    "                inputs = inputs.to(device)\n",
    "                labels = labels.to(device)\n",
    "\n",
    "                # zero the parameter gradients\n",
    "                optimizer.zero_grad()\n",
    "\n",
    "                # forward\n",
    "                # track history if only in train\n",
    "                with torch.set_grad_enabled(phase == 'train'):\n",
    "                    outputs = model(inputs)\n",
    "                    _, preds = torch.max(outputs, 1)\n",
    "                    loss = criterion(outputs, labels)\n",
    "\n",
    "                    # backward + optimize only if in training phase\n",
    "                    if phase == 'train':\n",
    "                        loss.backward()\n",
    "                        optimizer.step()\n",
    "\n",
    "                Probabilities.append(outputs.cpu().detach().numpy()[:,1])\n",
    "                ClassLabels.append(labels.cpu().detach().numpy())\n",
    "\n",
    "                # statistics\n",
    "                running_loss += loss.item() * inputs.size(0)\n",
    "                running_corrects += torch.sum(preds == labels.data)\n",
    "\n",
    "            ClassLabels = np.concatenate(ClassLabels).ravel()\n",
    "            Probabilities = np.concatenate(Probabilities).ravel()\n",
    "\n",
    "            #print('labels', ClassLabels)\n",
    "            #print('probs', Probabilities)\n",
    "\n",
    "            if phase == 'train' and scheduler!=None:\n",
    "                scheduler.step()\n",
    "\n",
    "            epoch_loss = running_loss / dataset_sizes[phase]\n",
    "            epoch_acc = running_corrects.double() / dataset_sizes[phase]\n",
    "            epoch_auc = metrics.roc_auc_score(ClassLabels, Probabilities)\n",
    "\n",
    "            print('{} Loss: {:.4f} Acc: {:.4f} AUC: {:.4f}'.format(\n",
    "                phase, epoch_loss, epoch_acc, epoch_auc))\n",
    "\n",
    "            # deep copy the model\n",
    "            if phase == 'val' and epoch_loss < best_loss: # criterio de minimizacao do loss\n",
    "                print('Best model detected!')\n",
    "                best_loss = epoch_loss\n",
    "                best_auc = epoch_auc\n",
    "                best_acc = epoch_acc\n",
    "                best_epoch = epoch\n",
    "\n",
    "                best_model_wts = copy.deepcopy(model.state_dict())\n",
    "\n",
    "            if phase == 'train':\n",
    "                LOSS_train.append(epoch_loss)\n",
    "                ACC_train.append(epoch_acc.cpu().detach().numpy())\n",
    "            if phase == 'val':\n",
    "                LOSS_val.append(epoch_loss)\n",
    "                ACC_val.append(epoch_acc.cpu().detach().numpy())\n",
    "\n",
    "\n",
    "    time_elapsed = time.time() - since\n",
    "    print('Training complete in {:.0f}m {:.0f}s'.format(\n",
    "        time_elapsed // 60, time_elapsed % 60))\n",
    "    print('Best model (epoch={}): val Loss: {:5f} Acc: {:5f} val AUC: {:5f}'.format(best_epoch, best_loss, best_acc, best_auc))\n",
    "\n",
    "    # load best model weights\n",
    "    model.load_state_dict(best_model_wts)\n",
    "\n",
    "    return model, LOSS_train, ACC_train, LOSS_val, ACC_val\n"
   ]
  },
  {
   "cell_type": "markdown",
   "metadata": {
    "id": "yMkKMGwhyAJs"
   },
   "source": [
    "## Testando o modelo"
   ]
  },
  {
   "cell_type": "code",
   "execution_count": null,
   "metadata": {
    "id": "54phGbTLx_Kg"
   },
   "outputs": [],
   "source": [
    "def validate_model(model):\n",
    "    model.eval()\n",
    "\n",
    "    Probabilities = []\n",
    "    ClassLabels = []\n",
    "\n",
    "    with torch.no_grad():\n",
    "\n",
    "            # Iterate over data.\n",
    "            for inputs, labels, _ in dataloaders['val']:\n",
    "                inputs = inputs.to(device)\n",
    "                labels = labels.to(device)\n",
    "\n",
    "                outputs = model(inputs)\n",
    "\n",
    "                Probabilities.append(outputs.cpu().detach().numpy()[:,1])\n",
    "                ClassLabels.append(labels.cpu().detach().numpy())\n",
    "\n",
    "    return np.concatenate(Probabilities).ravel(), np.concatenate(ClassLabels).ravel()"
   ]
  },
  {
   "cell_type": "markdown",
   "metadata": {
    "id": "QJcUlNaxVEnQ"
   },
   "source": [
    "# Experimento:\n",
    "\n"
   ]
  },
  {
   "cell_type": "code",
   "execution_count": null,
   "metadata": {
    "colab": {
     "base_uri": "https://localhost:8080/"
    },
    "id": "s0WQmuneuIuf",
    "outputId": "c1ec263d-ea99-4c1d-f0cb-884f0b628fe3"
   },
   "outputs": [
    {
     "data": {
      "text/plain": [
       "device(type='cuda', index=0)"
      ]
     },
     "execution_count": 39,
     "metadata": {},
     "output_type": "execute_result"
    }
   ],
   "source": [
    "# Data augmentation and normalization for training\n",
    "\n",
    "size, padding = 224, 30 # tamanho de entrada da EfficientNet B1\n",
    "\n",
    "data_transforms = {\n",
    "    'train': transforms.Compose([\n",
    "        transforms.Resize((size,size)),\n",
    "        transforms.ToTensor(),\n",
    "        transforms.RandomErasing(p=0.5)\n",
    "    ]),\n",
    "    'val': transforms.Compose([\n",
    "        transforms.Resize((size,size)),\n",
    "        transforms.ToTensor()\n",
    "    ]),\n",
    "    'test': transforms.Compose([\n",
    "        transforms.Resize((size,size)),\n",
    "        transforms.ToTensor()\n",
    "    ])\n",
    "}\n",
    "\n",
    "image_datasets = {x: ImageFolderWithPath(os.path.join(data_dir, x), data_transforms[x]) for x in ['train', 'val', 'test']}\n",
    "\n",
    "dataloaders = {x: torch.utils.data.DataLoader(image_datasets[x], batch_size=16, shuffle=True, num_workers=2) for x in ['train', 'val', 'test']}\n",
    "\n",
    "dataset_sizes = {x: len(image_datasets[x]) for x in ['train', 'val', 'test']}\n",
    "\n",
    "class_names = image_datasets['train'].classes\n",
    "\n",
    "device = torch.device(\"cuda:0\" if torch.cuda.is_available() else \"cpu\")\n",
    "device"
   ]
  },
  {
   "cell_type": "code",
   "execution_count": null,
   "metadata": {
    "colab": {
     "base_uri": "https://localhost:8080/"
    },
    "id": "F5c79MTpuIu5",
    "outputId": "aa816ff1-ac23-4592-c6e3-8c92b17a809b"
   },
   "outputs": [
    {
     "name": "stderr",
     "output_type": "stream",
     "text": [
      "/usr/local/lib/python3.10/dist-packages/torchvision/models/_utils.py:223: UserWarning: Arguments other than a weight enum or `None` for 'weights' are deprecated since 0.13 and may be removed in the future. The current behavior is equivalent to passing `weights=EfficientNet_B0_Weights.IMAGENET1K_V1`. You can also use `weights=EfficientNet_B0_Weights.DEFAULT` to get the most up-to-date weights.\n",
      "  warnings.warn(msg)\n"
     ]
    },
    {
     "name": "stdout",
     "output_type": "stream",
     "text": [
      "----------------------------------------------------------------\n",
      "        Layer (type)               Output Shape         Param #\n",
      "================================================================\n",
      "            Conv2d-1         [-1, 32, 112, 112]             864\n",
      "       BatchNorm2d-2         [-1, 32, 112, 112]              64\n",
      "              SiLU-3         [-1, 32, 112, 112]               0\n",
      "            Conv2d-4         [-1, 32, 112, 112]             288\n",
      "       BatchNorm2d-5         [-1, 32, 112, 112]              64\n",
      "              SiLU-6         [-1, 32, 112, 112]               0\n",
      " AdaptiveAvgPool2d-7             [-1, 32, 1, 1]               0\n",
      "            Conv2d-8              [-1, 8, 1, 1]             264\n",
      "              SiLU-9              [-1, 8, 1, 1]               0\n",
      "           Conv2d-10             [-1, 32, 1, 1]             288\n",
      "          Sigmoid-11             [-1, 32, 1, 1]               0\n",
      "SqueezeExcitation-12         [-1, 32, 112, 112]               0\n",
      "           Conv2d-13         [-1, 16, 112, 112]             512\n",
      "      BatchNorm2d-14         [-1, 16, 112, 112]              32\n",
      "           MBConv-15         [-1, 16, 112, 112]               0\n",
      "           Conv2d-16         [-1, 96, 112, 112]           1,536\n",
      "      BatchNorm2d-17         [-1, 96, 112, 112]             192\n",
      "             SiLU-18         [-1, 96, 112, 112]               0\n",
      "           Conv2d-19           [-1, 96, 56, 56]             864\n",
      "      BatchNorm2d-20           [-1, 96, 56, 56]             192\n",
      "             SiLU-21           [-1, 96, 56, 56]               0\n",
      "AdaptiveAvgPool2d-22             [-1, 96, 1, 1]               0\n",
      "           Conv2d-23              [-1, 4, 1, 1]             388\n",
      "             SiLU-24              [-1, 4, 1, 1]               0\n",
      "           Conv2d-25             [-1, 96, 1, 1]             480\n",
      "          Sigmoid-26             [-1, 96, 1, 1]               0\n",
      "SqueezeExcitation-27           [-1, 96, 56, 56]               0\n",
      "           Conv2d-28           [-1, 24, 56, 56]           2,304\n",
      "      BatchNorm2d-29           [-1, 24, 56, 56]              48\n",
      "           MBConv-30           [-1, 24, 56, 56]               0\n",
      "           Conv2d-31          [-1, 144, 56, 56]           3,456\n",
      "      BatchNorm2d-32          [-1, 144, 56, 56]             288\n",
      "             SiLU-33          [-1, 144, 56, 56]               0\n",
      "           Conv2d-34          [-1, 144, 56, 56]           1,296\n",
      "      BatchNorm2d-35          [-1, 144, 56, 56]             288\n",
      "             SiLU-36          [-1, 144, 56, 56]               0\n",
      "AdaptiveAvgPool2d-37            [-1, 144, 1, 1]               0\n",
      "           Conv2d-38              [-1, 6, 1, 1]             870\n",
      "             SiLU-39              [-1, 6, 1, 1]               0\n",
      "           Conv2d-40            [-1, 144, 1, 1]           1,008\n",
      "          Sigmoid-41            [-1, 144, 1, 1]               0\n",
      "SqueezeExcitation-42          [-1, 144, 56, 56]               0\n",
      "           Conv2d-43           [-1, 24, 56, 56]           3,456\n",
      "      BatchNorm2d-44           [-1, 24, 56, 56]              48\n",
      "  StochasticDepth-45           [-1, 24, 56, 56]               0\n",
      "           MBConv-46           [-1, 24, 56, 56]               0\n",
      "           Conv2d-47          [-1, 144, 56, 56]           3,456\n",
      "      BatchNorm2d-48          [-1, 144, 56, 56]             288\n",
      "             SiLU-49          [-1, 144, 56, 56]               0\n",
      "           Conv2d-50          [-1, 144, 28, 28]           3,600\n",
      "      BatchNorm2d-51          [-1, 144, 28, 28]             288\n",
      "             SiLU-52          [-1, 144, 28, 28]               0\n",
      "AdaptiveAvgPool2d-53            [-1, 144, 1, 1]               0\n",
      "           Conv2d-54              [-1, 6, 1, 1]             870\n",
      "             SiLU-55              [-1, 6, 1, 1]               0\n",
      "           Conv2d-56            [-1, 144, 1, 1]           1,008\n",
      "          Sigmoid-57            [-1, 144, 1, 1]               0\n",
      "SqueezeExcitation-58          [-1, 144, 28, 28]               0\n",
      "           Conv2d-59           [-1, 40, 28, 28]           5,760\n",
      "      BatchNorm2d-60           [-1, 40, 28, 28]              80\n",
      "           MBConv-61           [-1, 40, 28, 28]               0\n",
      "           Conv2d-62          [-1, 240, 28, 28]           9,600\n",
      "      BatchNorm2d-63          [-1, 240, 28, 28]             480\n",
      "             SiLU-64          [-1, 240, 28, 28]               0\n",
      "           Conv2d-65          [-1, 240, 28, 28]           6,000\n",
      "      BatchNorm2d-66          [-1, 240, 28, 28]             480\n",
      "             SiLU-67          [-1, 240, 28, 28]               0\n",
      "AdaptiveAvgPool2d-68            [-1, 240, 1, 1]               0\n",
      "           Conv2d-69             [-1, 10, 1, 1]           2,410\n",
      "             SiLU-70             [-1, 10, 1, 1]               0\n",
      "           Conv2d-71            [-1, 240, 1, 1]           2,640\n",
      "          Sigmoid-72            [-1, 240, 1, 1]               0\n",
      "SqueezeExcitation-73          [-1, 240, 28, 28]               0\n",
      "           Conv2d-74           [-1, 40, 28, 28]           9,600\n",
      "      BatchNorm2d-75           [-1, 40, 28, 28]              80\n",
      "  StochasticDepth-76           [-1, 40, 28, 28]               0\n",
      "           MBConv-77           [-1, 40, 28, 28]               0\n",
      "           Conv2d-78          [-1, 240, 28, 28]           9,600\n",
      "      BatchNorm2d-79          [-1, 240, 28, 28]             480\n",
      "             SiLU-80          [-1, 240, 28, 28]               0\n",
      "           Conv2d-81          [-1, 240, 14, 14]           2,160\n",
      "      BatchNorm2d-82          [-1, 240, 14, 14]             480\n",
      "             SiLU-83          [-1, 240, 14, 14]               0\n",
      "AdaptiveAvgPool2d-84            [-1, 240, 1, 1]               0\n",
      "           Conv2d-85             [-1, 10, 1, 1]           2,410\n",
      "             SiLU-86             [-1, 10, 1, 1]               0\n",
      "           Conv2d-87            [-1, 240, 1, 1]           2,640\n",
      "          Sigmoid-88            [-1, 240, 1, 1]               0\n",
      "SqueezeExcitation-89          [-1, 240, 14, 14]               0\n",
      "           Conv2d-90           [-1, 80, 14, 14]          19,200\n",
      "      BatchNorm2d-91           [-1, 80, 14, 14]             160\n",
      "           MBConv-92           [-1, 80, 14, 14]               0\n",
      "           Conv2d-93          [-1, 480, 14, 14]          38,400\n",
      "      BatchNorm2d-94          [-1, 480, 14, 14]             960\n",
      "             SiLU-95          [-1, 480, 14, 14]               0\n",
      "           Conv2d-96          [-1, 480, 14, 14]           4,320\n",
      "      BatchNorm2d-97          [-1, 480, 14, 14]             960\n",
      "             SiLU-98          [-1, 480, 14, 14]               0\n",
      "AdaptiveAvgPool2d-99            [-1, 480, 1, 1]               0\n",
      "          Conv2d-100             [-1, 20, 1, 1]           9,620\n",
      "            SiLU-101             [-1, 20, 1, 1]               0\n",
      "          Conv2d-102            [-1, 480, 1, 1]          10,080\n",
      "         Sigmoid-103            [-1, 480, 1, 1]               0\n",
      "SqueezeExcitation-104          [-1, 480, 14, 14]               0\n",
      "          Conv2d-105           [-1, 80, 14, 14]          38,400\n",
      "     BatchNorm2d-106           [-1, 80, 14, 14]             160\n",
      " StochasticDepth-107           [-1, 80, 14, 14]               0\n",
      "          MBConv-108           [-1, 80, 14, 14]               0\n",
      "          Conv2d-109          [-1, 480, 14, 14]          38,400\n",
      "     BatchNorm2d-110          [-1, 480, 14, 14]             960\n",
      "            SiLU-111          [-1, 480, 14, 14]               0\n",
      "          Conv2d-112          [-1, 480, 14, 14]           4,320\n",
      "     BatchNorm2d-113          [-1, 480, 14, 14]             960\n",
      "            SiLU-114          [-1, 480, 14, 14]               0\n",
      "AdaptiveAvgPool2d-115            [-1, 480, 1, 1]               0\n",
      "          Conv2d-116             [-1, 20, 1, 1]           9,620\n",
      "            SiLU-117             [-1, 20, 1, 1]               0\n",
      "          Conv2d-118            [-1, 480, 1, 1]          10,080\n",
      "         Sigmoid-119            [-1, 480, 1, 1]               0\n",
      "SqueezeExcitation-120          [-1, 480, 14, 14]               0\n",
      "          Conv2d-121           [-1, 80, 14, 14]          38,400\n",
      "     BatchNorm2d-122           [-1, 80, 14, 14]             160\n",
      " StochasticDepth-123           [-1, 80, 14, 14]               0\n",
      "          MBConv-124           [-1, 80, 14, 14]               0\n",
      "          Conv2d-125          [-1, 480, 14, 14]          38,400\n",
      "     BatchNorm2d-126          [-1, 480, 14, 14]             960\n",
      "            SiLU-127          [-1, 480, 14, 14]               0\n",
      "          Conv2d-128          [-1, 480, 14, 14]          12,000\n",
      "     BatchNorm2d-129          [-1, 480, 14, 14]             960\n",
      "            SiLU-130          [-1, 480, 14, 14]               0\n",
      "AdaptiveAvgPool2d-131            [-1, 480, 1, 1]               0\n",
      "          Conv2d-132             [-1, 20, 1, 1]           9,620\n",
      "            SiLU-133             [-1, 20, 1, 1]               0\n",
      "          Conv2d-134            [-1, 480, 1, 1]          10,080\n",
      "         Sigmoid-135            [-1, 480, 1, 1]               0\n",
      "SqueezeExcitation-136          [-1, 480, 14, 14]               0\n",
      "          Conv2d-137          [-1, 112, 14, 14]          53,760\n",
      "     BatchNorm2d-138          [-1, 112, 14, 14]             224\n",
      "          MBConv-139          [-1, 112, 14, 14]               0\n",
      "          Conv2d-140          [-1, 672, 14, 14]          75,264\n",
      "     BatchNorm2d-141          [-1, 672, 14, 14]           1,344\n",
      "            SiLU-142          [-1, 672, 14, 14]               0\n",
      "          Conv2d-143          [-1, 672, 14, 14]          16,800\n",
      "     BatchNorm2d-144          [-1, 672, 14, 14]           1,344\n",
      "            SiLU-145          [-1, 672, 14, 14]               0\n",
      "AdaptiveAvgPool2d-146            [-1, 672, 1, 1]               0\n",
      "          Conv2d-147             [-1, 28, 1, 1]          18,844\n",
      "            SiLU-148             [-1, 28, 1, 1]               0\n",
      "          Conv2d-149            [-1, 672, 1, 1]          19,488\n",
      "         Sigmoid-150            [-1, 672, 1, 1]               0\n",
      "SqueezeExcitation-151          [-1, 672, 14, 14]               0\n",
      "          Conv2d-152          [-1, 112, 14, 14]          75,264\n",
      "     BatchNorm2d-153          [-1, 112, 14, 14]             224\n",
      " StochasticDepth-154          [-1, 112, 14, 14]               0\n",
      "          MBConv-155          [-1, 112, 14, 14]               0\n",
      "          Conv2d-156          [-1, 672, 14, 14]          75,264\n",
      "     BatchNorm2d-157          [-1, 672, 14, 14]           1,344\n",
      "            SiLU-158          [-1, 672, 14, 14]               0\n",
      "          Conv2d-159          [-1, 672, 14, 14]          16,800\n",
      "     BatchNorm2d-160          [-1, 672, 14, 14]           1,344\n",
      "            SiLU-161          [-1, 672, 14, 14]               0\n",
      "AdaptiveAvgPool2d-162            [-1, 672, 1, 1]               0\n",
      "          Conv2d-163             [-1, 28, 1, 1]          18,844\n",
      "            SiLU-164             [-1, 28, 1, 1]               0\n",
      "          Conv2d-165            [-1, 672, 1, 1]          19,488\n",
      "         Sigmoid-166            [-1, 672, 1, 1]               0\n",
      "SqueezeExcitation-167          [-1, 672, 14, 14]               0\n",
      "          Conv2d-168          [-1, 112, 14, 14]          75,264\n",
      "     BatchNorm2d-169          [-1, 112, 14, 14]             224\n",
      " StochasticDepth-170          [-1, 112, 14, 14]               0\n",
      "          MBConv-171          [-1, 112, 14, 14]               0\n",
      "          Conv2d-172          [-1, 672, 14, 14]          75,264\n",
      "     BatchNorm2d-173          [-1, 672, 14, 14]           1,344\n",
      "            SiLU-174          [-1, 672, 14, 14]               0\n",
      "          Conv2d-175            [-1, 672, 7, 7]          16,800\n",
      "     BatchNorm2d-176            [-1, 672, 7, 7]           1,344\n",
      "            SiLU-177            [-1, 672, 7, 7]               0\n",
      "AdaptiveAvgPool2d-178            [-1, 672, 1, 1]               0\n",
      "          Conv2d-179             [-1, 28, 1, 1]          18,844\n",
      "            SiLU-180             [-1, 28, 1, 1]               0\n",
      "          Conv2d-181            [-1, 672, 1, 1]          19,488\n",
      "         Sigmoid-182            [-1, 672, 1, 1]               0\n",
      "SqueezeExcitation-183            [-1, 672, 7, 7]               0\n",
      "          Conv2d-184            [-1, 192, 7, 7]         129,024\n",
      "     BatchNorm2d-185            [-1, 192, 7, 7]             384\n",
      "          MBConv-186            [-1, 192, 7, 7]               0\n",
      "          Conv2d-187           [-1, 1152, 7, 7]         221,184\n",
      "     BatchNorm2d-188           [-1, 1152, 7, 7]           2,304\n",
      "            SiLU-189           [-1, 1152, 7, 7]               0\n",
      "          Conv2d-190           [-1, 1152, 7, 7]          28,800\n",
      "     BatchNorm2d-191           [-1, 1152, 7, 7]           2,304\n",
      "            SiLU-192           [-1, 1152, 7, 7]               0\n",
      "AdaptiveAvgPool2d-193           [-1, 1152, 1, 1]               0\n",
      "          Conv2d-194             [-1, 48, 1, 1]          55,344\n",
      "            SiLU-195             [-1, 48, 1, 1]               0\n",
      "          Conv2d-196           [-1, 1152, 1, 1]          56,448\n",
      "         Sigmoid-197           [-1, 1152, 1, 1]               0\n",
      "SqueezeExcitation-198           [-1, 1152, 7, 7]               0\n",
      "          Conv2d-199            [-1, 192, 7, 7]         221,184\n",
      "     BatchNorm2d-200            [-1, 192, 7, 7]             384\n",
      " StochasticDepth-201            [-1, 192, 7, 7]               0\n",
      "          MBConv-202            [-1, 192, 7, 7]               0\n",
      "          Conv2d-203           [-1, 1152, 7, 7]         221,184\n",
      "     BatchNorm2d-204           [-1, 1152, 7, 7]           2,304\n",
      "            SiLU-205           [-1, 1152, 7, 7]               0\n",
      "          Conv2d-206           [-1, 1152, 7, 7]          28,800\n",
      "     BatchNorm2d-207           [-1, 1152, 7, 7]           2,304\n",
      "            SiLU-208           [-1, 1152, 7, 7]               0\n",
      "AdaptiveAvgPool2d-209           [-1, 1152, 1, 1]               0\n",
      "          Conv2d-210             [-1, 48, 1, 1]          55,344\n",
      "            SiLU-211             [-1, 48, 1, 1]               0\n",
      "          Conv2d-212           [-1, 1152, 1, 1]          56,448\n",
      "         Sigmoid-213           [-1, 1152, 1, 1]               0\n",
      "SqueezeExcitation-214           [-1, 1152, 7, 7]               0\n",
      "          Conv2d-215            [-1, 192, 7, 7]         221,184\n",
      "     BatchNorm2d-216            [-1, 192, 7, 7]             384\n",
      " StochasticDepth-217            [-1, 192, 7, 7]               0\n",
      "          MBConv-218            [-1, 192, 7, 7]               0\n",
      "          Conv2d-219           [-1, 1152, 7, 7]         221,184\n",
      "     BatchNorm2d-220           [-1, 1152, 7, 7]           2,304\n",
      "            SiLU-221           [-1, 1152, 7, 7]               0\n",
      "          Conv2d-222           [-1, 1152, 7, 7]          28,800\n",
      "     BatchNorm2d-223           [-1, 1152, 7, 7]           2,304\n",
      "            SiLU-224           [-1, 1152, 7, 7]               0\n",
      "AdaptiveAvgPool2d-225           [-1, 1152, 1, 1]               0\n",
      "          Conv2d-226             [-1, 48, 1, 1]          55,344\n",
      "            SiLU-227             [-1, 48, 1, 1]               0\n",
      "          Conv2d-228           [-1, 1152, 1, 1]          56,448\n",
      "         Sigmoid-229           [-1, 1152, 1, 1]               0\n",
      "SqueezeExcitation-230           [-1, 1152, 7, 7]               0\n",
      "          Conv2d-231            [-1, 192, 7, 7]         221,184\n",
      "     BatchNorm2d-232            [-1, 192, 7, 7]             384\n",
      " StochasticDepth-233            [-1, 192, 7, 7]               0\n",
      "          MBConv-234            [-1, 192, 7, 7]               0\n",
      "          Conv2d-235           [-1, 1152, 7, 7]         221,184\n",
      "     BatchNorm2d-236           [-1, 1152, 7, 7]           2,304\n",
      "            SiLU-237           [-1, 1152, 7, 7]               0\n",
      "          Conv2d-238           [-1, 1152, 7, 7]          10,368\n",
      "     BatchNorm2d-239           [-1, 1152, 7, 7]           2,304\n",
      "            SiLU-240           [-1, 1152, 7, 7]               0\n",
      "AdaptiveAvgPool2d-241           [-1, 1152, 1, 1]               0\n",
      "          Conv2d-242             [-1, 48, 1, 1]          55,344\n",
      "            SiLU-243             [-1, 48, 1, 1]               0\n",
      "          Conv2d-244           [-1, 1152, 1, 1]          56,448\n",
      "         Sigmoid-245           [-1, 1152, 1, 1]               0\n",
      "SqueezeExcitation-246           [-1, 1152, 7, 7]               0\n",
      "          Conv2d-247            [-1, 320, 7, 7]         368,640\n",
      "     BatchNorm2d-248            [-1, 320, 7, 7]             640\n",
      "          MBConv-249            [-1, 320, 7, 7]               0\n",
      "          Conv2d-250           [-1, 1280, 7, 7]         409,600\n",
      "     BatchNorm2d-251           [-1, 1280, 7, 7]           2,560\n",
      "            SiLU-252           [-1, 1280, 7, 7]               0\n",
      "AdaptiveAvgPool2d-253           [-1, 1280, 1, 1]               0\n",
      "         Dropout-254                 [-1, 1280]               0\n",
      "          Linear-255                    [-1, 2]           2,562\n",
      "    EfficientNet-256                    [-1, 2]               0\n",
      "         Softmax-257                    [-1, 2]               0\n",
      "================================================================\n",
      "Total params: 4,010,110\n",
      "Trainable params: 4,010,110\n",
      "Non-trainable params: 0\n",
      "----------------------------------------------------------------\n",
      "Input size (MB): 0.57\n",
      "Forward/backward pass size (MB): 173.64\n",
      "Params size (MB): 15.30\n",
      "Estimated Total Size (MB): 189.52\n",
      "----------------------------------------------------------------\n"
     ]
    }
   ],
   "source": [
    "model = models.efficientnet_b0(weights=True)\n",
    "model.classifier[1] = nn.Linear(in_features= model.classifier[1].in_features, out_features=2)\n",
    "\n",
    "# Add a softmax activation to the output layer\n",
    "model = nn.Sequential(model, nn.Softmax(dim=1))\n",
    "\n",
    "model = model.to(device)\n",
    "\n",
    "criterion = nn.CrossEntropyLoss()\n",
    "criterion = criterion.to(device)\n",
    "\n",
    "# Observe that all parameters are being optimized\n",
    "optimizer_model = optim.Adam(model.parameters(), lr=1e-4)\n",
    "\n",
    "summary(model, (3, size, size))"
   ]
  },
  {
   "cell_type": "code",
   "execution_count": null,
   "metadata": {
    "ExecuteTime": {
     "end_time": "2019-10-08T08:29:17.994063Z",
     "start_time": "2019-10-08T08:04:07.796335Z"
    },
    "colab": {
     "base_uri": "https://localhost:8080/",
     "height": 1000
    },
    "id": "u9ai_PyMuIu5",
    "outputId": "426b4066-1b13-45d6-8028-e792d6dcd564",
    "scrolled": true
   },
   "outputs": [
    {
     "name": "stdout",
     "output_type": "stream",
     "text": [
      "Epoch 0/4\n",
      "----------\n",
      "train Loss: 0.4948 Acc: 0.8224 AUC: 0.9007\n",
      "val Loss: 0.4383 Acc: 0.8715 AUC: 0.9384\n",
      "Best model detected!\n",
      "Epoch 1/4\n",
      "----------\n",
      "train Loss: 0.4229 Acc: 0.8904 AUC: 0.9507\n",
      "val Loss: 0.4233 Acc: 0.8843 AUC: 0.9487\n",
      "Best model detected!\n",
      "Epoch 2/4\n",
      "----------\n",
      "train Loss: 0.4003 Acc: 0.9092 AUC: 0.9645\n",
      "val Loss: 0.4173 Acc: 0.8933 AUC: 0.9536\n",
      "Best model detected!\n",
      "Epoch 3/4\n",
      "----------\n",
      "train Loss: 0.3793 Acc: 0.9345 AUC: 0.9742\n",
      "val Loss: 0.4097 Acc: 0.8985 AUC: 0.9562\n",
      "Best model detected!\n",
      "Epoch 4/4\n",
      "----------\n",
      "train Loss: 0.3732 Acc: 0.9399 AUC: 0.9793\n",
      "val Loss: 0.4048 Acc: 0.9062 AUC: 0.9523\n",
      "Best model detected!\n",
      "Training complete in 3m 51s\n",
      "Best model (epoch=4): val Loss: 0.404799 Acc: 0.906170 val AUC: 0.952338\n"
     ]
    },
    {
     "data": {
      "image/png": "[encoded data removed]",
      "text/plain": [
       "<Figure size 640x480 with 1 Axes>"
      ]
     },
     "metadata": {},
     "output_type": "display_data"
    },
    {
     "data": {
      "image/png": "[encoded data removed]",
      "text/plain": [
       "<Figure size 640x480 with 1 Axes>"
      ]
     },
     "metadata": {},
     "output_type": "display_data"
    }
   ],
   "source": [
    "num_epochs = 5\n",
    "\n",
    "model, LOSS_train, ACC_train, LOSS_val, ACC_val = train_model(model, criterion, optimizer_model,\n",
    "                       num_epochs=num_epochs)\n",
    "\n",
    "# Saving model\n",
    "PATH = subpath+'/Trained_DLModel.pth'\n",
    "torch.save(model.state_dict(),PATH)\n",
    "\n",
    "# Plot curves:\n",
    "Epochs = np.arange(0,num_epochs)\n",
    "\n",
    "# Loss Curves:\n",
    "Variable_x_Epochs(Epochs, LOSS_train, LOSS_val, \"Loss\")\n",
    "# Acc Curves:\n",
    "Variable_x_Epochs(Epochs, ACC_train, ACC_val, \"Accuracy\")\n"
   ]
  },
  {
   "cell_type": "code",
   "execution_count": null,
   "metadata": {
    "colab": {
     "base_uri": "https://localhost:8080/"
    },
    "id": "znsufwUTuIu6",
    "outputId": "7a7f1486-a8a0-4c4e-8cbc-fd648d415e76"
   },
   "outputs": [
    {
     "name": "stdout",
     "output_type": "stream",
     "text": [
      "\n",
      " Melhor Decision Threshold:  0.45244333\n",
      "\n",
      " Melhor Índice de Youden:  0.8185486011572968\n"
     ]
    },
    {
     "data": {
      "text/plain": [
       "<Figure size 640x480 with 0 Axes>"
      ]
     },
     "metadata": {},
     "output_type": "display_data"
    },
    {
     "data": {
      "text/plain": [
       "<Figure size 640x480 with 0 Axes>"
      ]
     },
     "metadata": {},
     "output_type": "display_data"
    },
    {
     "data": {
      "text/plain": [
       "<Figure size 640x480 with 0 Axes>"
      ]
     },
     "metadata": {},
     "output_type": "display_data"
    }
   ],
   "source": [
    "# Plot das curvas de TPR e FPR em função do Decision Threshold:\n",
    "\n",
    "Predictions, classes = validate_model(model)\n",
    "AnalysisPlots(classes, Predictions)\n"
   ]
  },
  {
   "cell_type": "code",
   "execution_count": null,
   "metadata": {
    "colab": {
     "base_uri": "https://localhost:8080/"
    },
    "id": "bA039FZJXKQw",
    "outputId": "490276b6-df46-4d69-daaa-6ee5c23aecf8"
   },
   "outputs": [
    {
     "data": {
      "application/vnd.google.colaboratory.intrinsic+json": {
       "type": "string"
      },
      "text/plain": [
       "'/content/gdrive/Shareddrives/IA901 - Projeto Final/Notebooks/InterimResults/DL_Baseline/2/02_TrainDL.ipynb'"
      ]
     },
     "execution_count": 43,
     "metadata": {},
     "output_type": "execute_result"
    }
   ],
   "source": [
    "# Saving a copy of the experiment notebook\n",
    "import shutil\n",
    "\n",
    "source_file = '/content/gdrive/Shareddrives/IA901 - Projeto Final/Notebooks/02_TrainDL.ipynb'\n",
    "\n",
    "# Copy the file to the destination directory\n",
    "shutil.copy2(source_file, subpath)"
   ]
  }
 ],
 "metadata": {
  "accelerator": "GPU",
  "colab": {
   "gpuType": "T4",
   "provenance": []
  },
  "gpuClass": "standard",
  "kernelspec": {
   "display_name": "Python 3 (ipykernel)",
   "language": "python",
   "name": "python3"
  },
  "language_info": {
   "codemirror_mode": {
    "name": "ipython",
    "version": 3
   },
   "file_extension": ".py",
   "mimetype": "text/x-python",
   "name": "python",
   "nbconvert_exporter": "python",
   "pygments_lexer": "ipython3",
   "version": "3.8.12"
  }
 },
 "nbformat": 4,
 "nbformat_minor": 1
}
